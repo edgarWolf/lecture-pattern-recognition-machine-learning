{
 "cells": [
  {
   "cell_type": "markdown",
   "metadata": {},
   "source": [
    "# Übung 8\n",
    "\n",
    "Klassifikation von Sequenzen\n",
    "\n",
    "Vorbereitung:\n",
    "\n",
    "Installieren Sie das Paket **hmmlearn** aus dem Omnia Repository\n",
    "z.B. über conda:\n",
    "\n",
    "~~~~\n",
    "conda install -c omnia hmmlearn \n",
    "~~~~"
   ]
  },
  {
   "cell_type": "code",
   "execution_count": 1,
   "metadata": {},
   "outputs": [],
   "source": [
    "import numpy as np\n",
    "import pandas as pd\n",
    "import matplotlib.pyplot as plt\n",
    "from hmmlearn import hmm"
   ]
  },
  {
   "cell_type": "markdown",
   "metadata": {},
   "source": [
    "Schritt 1: Lesen Sie die Trainings-Daten für Modell 0 aus den Dateien *'hmm/train_m0.txt'* (Samples) und *'hmm/train_m0_len.txt'* (Sequenzlängen der Samples) ein"
   ]
  },
  {
   "cell_type": "code",
   "execution_count": 2,
   "metadata": {},
   "outputs": [],
   "source": [
    "# Beispiel für das Input-Format von HMM-Learn:\n",
    "X = [[0], [1], [2], [0], [0], [2], [2], [1], [1]]\n",
    "length = [4 , 5]\n",
    "# d.h. erste Sequenz hat 4 Werte, zweite Sequenz hat 5"
   ]
  },
  {
   "cell_type": "code",
   "execution_count": 3,
   "metadata": {},
   "outputs": [
    {
     "data": {
      "text/plain": [
       "array([[1],\n",
       "       [1],\n",
       "       [0],\n",
       "       [1],\n",
       "       [1],\n",
       "       [2],\n",
       "       [0],\n",
       "       [1],\n",
       "       [0],\n",
       "       [1]], dtype=int64)"
      ]
     },
     "execution_count": 3,
     "metadata": {},
     "output_type": "execute_result"
    }
   ],
   "source": [
    "train_df = pd.read_csv(\"hmm/train_m0.txt\", header=None)\n",
    "train_len_samples = pd.read_csv(\"hmm/train_m0_len.txt\", header=None)\n",
    "train_df.values[:10]\n"
   ]
  },
  {
   "cell_type": "code",
   "execution_count": 4,
   "metadata": {},
   "outputs": [
    {
     "data": {
      "text/plain": [
       "array([16, 11, 17, 12, 13, 10, 10, 19, 15, 18], dtype=int64)"
      ]
     },
     "execution_count": 4,
     "metadata": {},
     "output_type": "execute_result"
    }
   ],
   "source": [
    "train_len_samples.values.flatten()[:10]"
   ]
  },
  {
   "cell_type": "markdown",
   "metadata": {},
   "source": [
    "Schritt 2: Trainieren Sie ein Multinomial-HMM mit 4 Zuständen. Verwenden Sie dazu die eben eingelesenen Trainingsdaten."
   ]
  },
  {
   "cell_type": "code",
   "execution_count": 5,
   "metadata": {},
   "outputs": [
    {
     "data": {
      "text/plain": [
       "MultinomialHMM(n_components=4,\n",
       "               random_state=RandomState(MT19937) at 0x269723B1240)"
      ]
     },
     "execution_count": 5,
     "metadata": {},
     "output_type": "execute_result"
    }
   ],
   "source": [
    "# Modell trainieren\n",
    "model = hmm.MultinomialHMM(n_components=4)\n",
    "model.fit(train_df.values, lengths=train_len_samples.values.flatten())\n",
    "model"
   ]
  },
  {
   "cell_type": "code",
   "execution_count": 6,
   "metadata": {},
   "outputs": [
    {
     "data": {
      "text/plain": [
       "{'algorithm': 'viterbi',\n",
       " 'implementation': 'log',\n",
       " 'init_params': 'ste',\n",
       " 'n_components': 4,\n",
       " 'n_iter': 10,\n",
       " 'params': 'ste',\n",
       " 'random_state': RandomState(MT19937) at 0x269723B1240,\n",
       " 'startprob_prior': 1.0,\n",
       " 'tol': 0.01,\n",
       " 'transmat_prior': 1.0,\n",
       " 'verbose': False}"
      ]
     },
     "execution_count": 6,
     "metadata": {},
     "output_type": "execute_result"
    }
   ],
   "source": [
    "# Modell-Parameter anzeigen\n",
    "model.get_params()"
   ]
  },
  {
   "cell_type": "markdown",
   "metadata": {},
   "source": [
    "Schritt 3: Lesen Sie die Trainings-Daten für Modell 1 aus den Dateien *'hmm/train_m1.txt'* (Samples) und *'hmm/train_m1_len.txt'* (Sequenzlängen der Samples) ein"
   ]
  },
  {
   "cell_type": "code",
   "execution_count": 7,
   "metadata": {},
   "outputs": [
    {
     "data": {
      "text/html": [
       "<div>\n",
       "<style scoped>\n",
       "    .dataframe tbody tr th:only-of-type {\n",
       "        vertical-align: middle;\n",
       "    }\n",
       "\n",
       "    .dataframe tbody tr th {\n",
       "        vertical-align: top;\n",
       "    }\n",
       "\n",
       "    .dataframe thead th {\n",
       "        text-align: right;\n",
       "    }\n",
       "</style>\n",
       "<table border=\"1\" class=\"dataframe\">\n",
       "  <thead>\n",
       "    <tr style=\"text-align: right;\">\n",
       "      <th></th>\n",
       "      <th>0</th>\n",
       "    </tr>\n",
       "  </thead>\n",
       "  <tbody>\n",
       "    <tr>\n",
       "      <th>0</th>\n",
       "      <td>1</td>\n",
       "    </tr>\n",
       "    <tr>\n",
       "      <th>1</th>\n",
       "      <td>1</td>\n",
       "    </tr>\n",
       "    <tr>\n",
       "      <th>2</th>\n",
       "      <td>1</td>\n",
       "    </tr>\n",
       "    <tr>\n",
       "      <th>3</th>\n",
       "      <td>0</td>\n",
       "    </tr>\n",
       "    <tr>\n",
       "      <th>4</th>\n",
       "      <td>1</td>\n",
       "    </tr>\n",
       "  </tbody>\n",
       "</table>\n",
       "</div>"
      ],
      "text/plain": [
       "   0\n",
       "0  1\n",
       "1  1\n",
       "2  1\n",
       "3  0\n",
       "4  1"
      ]
     },
     "execution_count": 7,
     "metadata": {},
     "output_type": "execute_result"
    }
   ],
   "source": [
    "train_df_model1 = pd.read_csv(\"hmm/train_m1.txt\", header=None)\n",
    "train_len_samples_model1 = pd.read_csv(\"hmm/train_m1_len.txt\", header=None)\n",
    "train_df_model1.head()"
   ]
  },
  {
   "cell_type": "markdown",
   "metadata": {},
   "source": [
    "Schritt 4: Trainieren Sie ein weiteres Multinomial-HMM mit 4 Zuständen. Verwenden Sie dazu die eben eingelesenen Trainingsdaten."
   ]
  },
  {
   "cell_type": "code",
   "execution_count": 8,
   "metadata": {},
   "outputs": [
    {
     "data": {
      "text/plain": [
       "MultinomialHMM(n_components=4,\n",
       "               random_state=RandomState(MT19937) at 0x269723B1240)"
      ]
     },
     "execution_count": 8,
     "metadata": {},
     "output_type": "execute_result"
    }
   ],
   "source": [
    "# Modell trainieren\n",
    "model1 = hmm.MultinomialHMM(n_components=4)\n",
    "model1.fit(train_df_model1.values, lengths=train_len_samples_model1.values.flatten())\n",
    "model1"
   ]
  },
  {
   "cell_type": "code",
   "execution_count": 9,
   "metadata": {},
   "outputs": [
    {
     "data": {
      "text/plain": [
       "{'algorithm': 'viterbi',\n",
       " 'implementation': 'log',\n",
       " 'init_params': 'ste',\n",
       " 'n_components': 4,\n",
       " 'n_iter': 10,\n",
       " 'params': 'ste',\n",
       " 'random_state': RandomState(MT19937) at 0x269723B1240,\n",
       " 'startprob_prior': 1.0,\n",
       " 'tol': 0.01,\n",
       " 'transmat_prior': 1.0,\n",
       " 'verbose': False}"
      ]
     },
     "execution_count": 9,
     "metadata": {},
     "output_type": "execute_result"
    }
   ],
   "source": [
    "# Modell-Parameter anzeigen\n",
    "model1.get_params()"
   ]
  },
  {
   "cell_type": "markdown",
   "metadata": {},
   "source": [
    "Schritt 5: Testen Sie die Modelle mit Hilfe der Dateien *'test_m0_samples.txt'* und *'test_m1_samples.txt'*. In der ersten Datei befinden sich nur Muster für Modell 0 und in der zweiten nur Muster für Modell 1."
   ]
  },
  {
   "cell_type": "code",
   "execution_count": 10,
   "metadata": {},
   "outputs": [],
   "source": [
    "test_df_model0 = pd.read_csv(\"hmm/test_m0_samples.txt\", header=None)\n",
    "test_df_model1 = pd.read_csv(\"hmm/test_m1_samples.txt\", header=None)"
   ]
  },
  {
   "cell_type": "code",
   "execution_count": 11,
   "metadata": {},
   "outputs": [
    {
     "data": {
      "text/plain": [
       "[[2, 2, 0, 1, 1, 1, 1, 1, 1, 0, 1, 2, 0, 2, 2, 1, 0, 2, 0],\n",
       " [2, 1, 1, 1, 2, 2, 0, 1, 0, 1, 1, 0, 0, 1],\n",
       " [2, 1, 1, 1, 2, 1, 1, 1, 2, 1, 2, 0, 2],\n",
       " [2, 0, 1, 2, 2, 1, 1, 1, 2, 1, 1, 1, 2, 1, 2, 0, 2],\n",
       " [1, 2, 1, 1, 1, 2, 1, 2, 0, 2, 2, 2, 1, 2, 1, 1, 2, 0],\n",
       " [2, 2, 2, 2, 2, 0, 2, 1, 1, 1, 1, 2],\n",
       " [2, 2, 2, 1, 1, 1, 2, 1, 1, 0, 1, 1, 1, 2, 1, 1, 2, 1],\n",
       " [2, 1, 1, 1, 1, 0, 1, 1, 0, 2, 1, 2],\n",
       " [2, 2, 1, 1, 0, 2, 1, 1, 1, 1, 1, 1, 2, 2, 1, 2, 2],\n",
       " [2, 0, 1, 2, 1, 1, 1, 1, 2, 1, 1, 1, 2, 2]]"
      ]
     },
     "execution_count": 11,
     "metadata": {},
     "output_type": "execute_result"
    }
   ],
   "source": [
    "test_samples0 = []\n",
    "test_samples1 = []\n",
    "with open(\"hmm/test_m0_samples.txt\", \"r\") as f:\n",
    "    for line in f:\n",
    "        line = line.rstrip('\\n')\n",
    "        test_samples0.append([int(e) for e in list(line)])\n",
    "\n",
    "with open(\"hmm/test_m1_samples.txt\", \"r\") as f:\n",
    "    for line in f:\n",
    "        line = line.rstrip('\\n')\n",
    "        test_samples1.append([int(e) for e in list(line)])\n",
    "\n",
    "test_samples0[:10]"
   ]
  },
  {
   "cell_type": "code",
   "execution_count": 12,
   "metadata": {},
   "outputs": [
    {
     "data": {
      "text/plain": [
       "[[0, 1, 1, 1, 1, 1, 2, 2, 2, 1, 2, 1, 1, 2, 2, 0, 1],\n",
       " [0, 0, 0, 0, 1, 1, 1, 2, 1, 0, 0, 0, 1, 1, 1, 1, 0],\n",
       " [1, 2, 0, 0, 1, 1, 1, 0, 1, 0, 0, 0, 0, 0, 2, 1],\n",
       " [0, 0, 0, 2, 0, 0, 0, 2, 1, 1, 1, 0, 2, 2, 0],\n",
       " [2, 0, 2, 1, 0, 1, 0, 1, 1, 0, 2, 0, 0, 0, 0, 1, 2],\n",
       " [0, 0, 0, 1, 1, 0, 1, 0, 0, 1],\n",
       " [0, 2, 0, 1, 0, 0, 2, 2, 1, 2, 0],\n",
       " [0, 1, 0, 0, 0, 0, 0, 0, 1, 2, 1, 1, 2, 2],\n",
       " [1, 0, 1, 0, 1, 1, 0, 0, 0, 0, 2, 2, 1, 0, 1, 0, 0, 0],\n",
       " [0, 0, 0, 0, 2, 1, 1, 1, 0, 0, 0, 0]]"
      ]
     },
     "execution_count": 12,
     "metadata": {},
     "output_type": "execute_result"
    }
   ],
   "source": [
    "test_samples1[:10]"
   ]
  },
  {
   "cell_type": "code",
   "execution_count": 16,
   "metadata": {},
   "outputs": [
    {
     "name": "stdout",
     "output_type": "stream",
     "text": [
      "0.044\n"
     ]
    }
   ],
   "source": [
    "# Testdaten für Modell 0 einlesen und mit beiden Modellen testen\n",
    "# Modell 0 muss immer die höhere Wahrscheinlichkeit anzeigen\n",
    "sum0 = 0\n",
    "for sample in test_samples0:\n",
    "    score0 = model.score(np.array(sample).reshape(-1,1))\n",
    "    score1 = model1.score(np.array(sample).reshape(-1,1))\n",
    "    sum0 += np.argmax([score0, score1])\n",
    "\n",
    "\n",
    "print((len(test_samples0) - sum0) / len(test_samples0))"
   ]
  },
  {
   "cell_type": "code",
   "execution_count": 15,
   "metadata": {},
   "outputs": [
    {
     "name": "stdout",
     "output_type": "stream",
     "text": [
      "0.924\n"
     ]
    }
   ],
   "source": [
    "# Testdaten für Modell 1 einlesen und mit beiden Modellen testen\n",
    "# Modell 1 muss immer die höhere Wahrscheinlichkeit anzeigen\n",
    "sum1 = 0\n",
    "for sample in test_samples1:\n",
    "    score0 = model.score(np.array(sample).reshape(-1,1))\n",
    "    score1 = model1.score(np.array(sample).reshape(-1,1))\n",
    "    sum1 += np.argmax([score0, score1])\n",
    "\n",
    "\n",
    "print(sum1 / len(test_samples1))"
   ]
  }
 ],
 "metadata": {
  "interpreter": {
   "hash": "6697a5e855206eecb6432c738b910a0fbfa53a948a5bfddd7dd3b9b084bc4f25"
  },
  "kernelspec": {
   "display_name": "Python 3.8.12 ('env_study')",
   "language": "python",
   "name": "python3"
  },
  "language_info": {
   "codemirror_mode": {
    "name": "ipython",
    "version": 3
   },
   "file_extension": ".py",
   "mimetype": "text/x-python",
   "name": "python",
   "nbconvert_exporter": "python",
   "pygments_lexer": "ipython3",
   "version": "3.8.12"
  }
 },
 "nbformat": 4,
 "nbformat_minor": 2
}
